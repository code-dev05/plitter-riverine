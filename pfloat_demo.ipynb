{
 "cells": [
  {
   "cell_type": "code",
   "execution_count": null,
   "metadata": {},
   "outputs": [],
   "source": [
    "import torch\n",
    "import time\n",
    "import spatial\n",
    "from detector import detector\n",
    "\n",
    "model = detector()\n",
    "\n",
    "route = spatial.pTrack('./data') # for testing, create a data directory in the root folder and put all the images and videos there.\n",
    "\n",
    "start = time.time()\n",
    "route.load()\n",
    "route.detect(model, skip_frames=4)\n",
    "end = time.time()\n",
    "\n",
    "print(f\"Time taken: {end - start} seconds\")\n",
    "\n",
    "route.export('./data/sample.geojson')"
   ]
  },
  {
   "cell_type": "code",
   "execution_count": null,
   "metadata": {},
   "outputs": [],
   "source": []
  }
 ],
 "metadata": {
  "kernelspec": {
   "display_name": "plitter",
   "language": "python",
   "name": "python3"
  },
  "language_info": {
   "codemirror_mode": {
    "name": "ipython",
    "version": 3
   },
   "file_extension": ".py",
   "mimetype": "text/x-python",
   "name": "python",
   "nbconvert_exporter": "python",
   "pygments_lexer": "ipython3",
   "version": "3.8.20"
  }
 },
 "nbformat": 4,
 "nbformat_minor": 2
}
